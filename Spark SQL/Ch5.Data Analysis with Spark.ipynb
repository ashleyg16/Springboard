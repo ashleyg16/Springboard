{
 "cells": [
  {
   "cell_type": "code",
   "execution_count": 1,
   "id": "d243b48c",
   "metadata": {},
   "outputs": [],
   "source": [
    "from pyspark.sql import SparkSession"
   ]
  },
  {
   "cell_type": "code",
   "execution_count": 2,
   "id": "a8ed4d89",
   "metadata": {},
   "outputs": [],
   "source": [
    "spark = SparkSession.builder.getOrCreate()"
   ]
  },
  {
   "cell_type": "code",
   "execution_count": 3,
   "id": "d44b0b55",
   "metadata": {},
   "outputs": [],
   "source": [
    "data_path = '/Users/ashle/Springboard/Spark SQL/Data'"
   ]
  },
  {
   "cell_type": "code",
   "execution_count": 4,
   "id": "db8bbb56",
   "metadata": {},
   "outputs": [],
   "source": [
    "json_df_path = data_path + '/utilization.json'\n",
    "df_util = spark.read.format('json').load(json_df_path)"
   ]
  },
  {
   "cell_type": "code",
   "execution_count": 5,
   "id": "fbcdbd82",
   "metadata": {},
   "outputs": [
    {
     "name": "stdout",
     "output_type": "stream",
     "text": [
      "+---------------+-------------------+-----------+---------+-------------+\n",
      "|cpu_utilization|     event_datetime|free_memory|server_id|session_count|\n",
      "+---------------+-------------------+-----------+---------+-------------+\n",
      "|           0.57|03/05/2019 08:06:14|       0.51|      100|           47|\n",
      "|           0.47|03/05/2019 08:11:14|       0.62|      100|           43|\n",
      "|           0.56|03/05/2019 08:16:14|       0.57|      100|           62|\n",
      "|           0.57|03/05/2019 08:21:14|       0.56|      100|           50|\n",
      "|           0.35|03/05/2019 08:26:14|       0.46|      100|           43|\n",
      "|           0.41|03/05/2019 08:31:14|       0.58|      100|           48|\n",
      "|           0.57|03/05/2019 08:36:14|       0.35|      100|           58|\n",
      "|           0.41|03/05/2019 08:41:14|        0.4|      100|           58|\n",
      "|           0.53|03/05/2019 08:46:14|       0.35|      100|           62|\n",
      "|           0.51|03/05/2019 08:51:14|        0.6|      100|           45|\n",
      "+---------------+-------------------+-----------+---------+-------------+\n",
      "only showing top 10 rows\n",
      "\n"
     ]
    }
   ],
   "source": [
    "df_util.show(10)"
   ]
  },
  {
   "cell_type": "markdown",
   "id": "5ca74afc",
   "metadata": {},
   "source": [
    "**EDA with Dataframes**"
   ]
  },
  {
   "cell_type": "code",
   "execution_count": 6,
   "id": "68446675",
   "metadata": {},
   "outputs": [],
   "source": [
    "df_util.createOrReplaceTempView('utilization')"
   ]
  },
  {
   "cell_type": "code",
   "execution_count": 7,
   "id": "166f4b50",
   "metadata": {},
   "outputs": [
    {
     "data": {
      "text/plain": [
       "500000"
      ]
     },
     "execution_count": 7,
     "metadata": {},
     "output_type": "execute_result"
    }
   ],
   "source": [
    "df_util.count()"
   ]
  },
  {
   "cell_type": "code",
   "execution_count": 8,
   "id": "5663071d",
   "metadata": {},
   "outputs": [
    {
     "name": "stdout",
     "output_type": "stream",
     "text": [
      "+-------+-------------------+-------------------+-------------------+------------------+------------------+\n",
      "|summary|    cpu_utilization|     event_datetime|        free_memory|         server_id|     session_count|\n",
      "+-------+-------------------+-------------------+-------------------+------------------+------------------+\n",
      "|  count|             500000|             500000|             500000|            500000|            500000|\n",
      "|   mean| 0.6205177399999977|               null|0.37912809999999963|             124.5|          69.59616|\n",
      "| stddev|0.15875173872912898|               null| 0.1583093127837621|14.430884120553216|14.850676696352755|\n",
      "|    min|               0.22|03/05/2019 08:06:14|                0.0|               100|                32|\n",
      "|    max|                1.0|04/09/2019 01:22:46|               0.78|               149|               105|\n",
      "+-------+-------------------+-------------------+-------------------+------------------+------------------+\n",
      "\n"
     ]
    }
   ],
   "source": [
    "df_util.describe().show()"
   ]
  },
  {
   "cell_type": "code",
   "execution_count": 9,
   "id": "f09797ca",
   "metadata": {},
   "outputs": [
    {
     "data": {
      "text/plain": [
       "-0.4704771573080734"
      ]
     },
     "execution_count": 9,
     "metadata": {},
     "output_type": "execute_result"
    }
   ],
   "source": [
    "df_util.stat.corr('cpu_utilization', 'free_memory')"
   ]
  },
  {
   "cell_type": "code",
   "execution_count": 10,
   "id": "7dd91232",
   "metadata": {},
   "outputs": [
    {
     "data": {
      "text/plain": [
       "-0.5008320848876565"
      ]
     },
     "execution_count": 10,
     "metadata": {},
     "output_type": "execute_result"
    }
   ],
   "source": [
    "df_util.stat.corr('session_count', 'free_memory')"
   ]
  },
  {
   "cell_type": "code",
   "execution_count": 11,
   "id": "19ff9f7a",
   "metadata": {},
   "outputs": [
    {
     "name": "stdout",
     "output_type": "stream",
     "text": [
      "+--------------------+-----------------------+\n",
      "| server_id_freqItems|session_count_freqItems|\n",
      "+--------------------+-----------------------+\n",
      "|[146, 137, 101, 1...|   [92, 101, 83, 104...|\n",
      "+--------------------+-----------------------+\n",
      "\n"
     ]
    }
   ],
   "source": [
    "df_util.stat.freqItems(('server_id', 'session_count')).show()"
   ]
  },
  {
   "cell_type": "code",
   "execution_count": 14,
   "id": "a0f83eb8",
   "metadata": {},
   "outputs": [],
   "source": [
    "df_util_sample = df_util.sample(fraction = 0.05, withReplacement = False)"
   ]
  },
  {
   "cell_type": "code",
   "execution_count": 16,
   "id": "5b40f7b8",
   "metadata": {},
   "outputs": [
    {
     "data": {
      "text/plain": [
       "25115"
      ]
     },
     "execution_count": 16,
     "metadata": {},
     "output_type": "execute_result"
    }
   ],
   "source": [
    "df_util_sample.count()"
   ]
  },
  {
   "cell_type": "markdown",
   "id": "9bce29d8",
   "metadata": {},
   "source": [
    "**EDA with Spark SQL**"
   ]
  },
  {
   "cell_type": "code",
   "execution_count": 18,
   "id": "d84d4e36",
   "metadata": {},
   "outputs": [
    {
     "name": "stdout",
     "output_type": "stream",
     "text": [
      "+--------------------+--------------------+-----------------------+\n",
      "|min(cpu_utilization)|max(cpu_utilization)|stddev(cpu_utilization)|\n",
      "+--------------------+--------------------+-----------------------+\n",
      "|                0.22|                 1.0|    0.15875173872912898|\n",
      "+--------------------+--------------------+-----------------------+\n",
      "\n"
     ]
    }
   ],
   "source": [
    "spark.sql('SELECT min(cpu_utilization), max(cpu_utilization), stddev(cpu_utilization) FROM utilization').show()"
   ]
  },
  {
   "cell_type": "code",
   "execution_count": 20,
   "id": "94bfc327",
   "metadata": {},
   "outputs": [
    {
     "name": "stdout",
     "output_type": "stream",
     "text": [
      "+---------+--------------------+--------------------+-----------------------+\n",
      "|server_id|min(cpu_utilization)|max(cpu_utilization)|stddev(cpu_utilization)|\n",
      "+---------+--------------------+--------------------+-----------------------+\n",
      "|      103|                0.56|                0.96|    0.11617507884178263|\n",
      "|      100|                0.27|                0.67|     0.1152264191787964|\n",
      "|      101|                 0.6|                 1.0|    0.11651726263197697|\n",
      "|      102|                0.56|                0.96|    0.11549678751286807|\n",
      "|      107|                0.45|                0.85|    0.11597417369783877|\n",
      "|      104|                0.51|                0.91|    0.11521679513850511|\n",
      "|      106|                0.22|                0.62|    0.11531539914568233|\n",
      "|      105|                0.29|                0.69|    0.11510721467869486|\n",
      "|      110|                0.35|                0.75|    0.11533251724450223|\n",
      "|      108|                0.55|                0.95|    0.11563100171171926|\n",
      "|      109|                0.36|                0.76|    0.11574898623219722|\n",
      "|      112|                0.52|                0.92|    0.11528867845082576|\n",
      "|      113|                0.58|                0.98|    0.11544345150353694|\n",
      "|      114|                0.33|                0.73|    0.11510268816097304|\n",
      "|      111|                0.36|                0.76|    0.11530221569464506|\n",
      "|      116|                 0.3|                 0.7|    0.11506079722349302|\n",
      "|      115|                0.44|                0.84|    0.11569664615014985|\n",
      "|      117|                0.38|                0.78|    0.11534593941519554|\n",
      "|      119|                0.22|                0.62|    0.11516031929842008|\n",
      "|      120|                0.35|                0.75|    0.11586355920838642|\n",
      "+---------+--------------------+--------------------+-----------------------+\n",
      "only showing top 20 rows\n",
      "\n"
     ]
    }
   ],
   "source": [
    "spark.sql('SELECT server_id, min(cpu_utilization), max(cpu_utilization), stddev(cpu_utilization) \\\n",
    "          FROM utilization \\\n",
    "          GROUP BY server_id').show()"
   ]
  },
  {
   "cell_type": "code",
   "execution_count": 21,
   "id": "602c05ae",
   "metadata": {},
   "outputs": [
    {
     "name": "stdout",
     "output_type": "stream",
     "text": [
      "+---------+------+\n",
      "|server_id|bucket|\n",
      "+---------+------+\n",
      "|      100|     5|\n",
      "|      100|     4|\n",
      "|      100|     5|\n",
      "|      100|     5|\n",
      "|      100|     3|\n",
      "|      100|     4|\n",
      "|      100|     5|\n",
      "|      100|     4|\n",
      "|      100|     5|\n",
      "|      100|     5|\n",
      "|      100|     3|\n",
      "|      100|     6|\n",
      "|      100|     6|\n",
      "|      100|     5|\n",
      "|      100|     2|\n",
      "|      100|     4|\n",
      "|      100|     4|\n",
      "|      100|     6|\n",
      "|      100|     4|\n",
      "|      100|     5|\n",
      "+---------+------+\n",
      "only showing top 20 rows\n",
      "\n"
     ]
    }
   ],
   "source": [
    "spark.sql('SELECT server_id, FLOOR(cpu_utilization*100/10) AS bucket FROM utilization').show()"
   ]
  },
  {
   "cell_type": "code",
   "execution_count": 22,
   "id": "e8ffaf4e",
   "metadata": {},
   "outputs": [
    {
     "name": "stdout",
     "output_type": "stream",
     "text": [
      "+--------+------+\n",
      "|count(1)|bucket|\n",
      "+--------+------+\n",
      "|    8186|     2|\n",
      "|   37029|     3|\n",
      "|   68046|     4|\n",
      "|  104910|     5|\n",
      "|  116725|     6|\n",
      "|   88242|     7|\n",
      "|   56598|     8|\n",
      "|   20207|     9|\n",
      "|      57|    10|\n",
      "+--------+------+\n",
      "\n"
     ]
    }
   ],
   "source": [
    "spark.sql('SELECT count(*), FLOOR(cpu_utilization*100/10) AS bucket FROM utilization GROUP BY bucket ORDER BY bucket').show()"
   ]
  },
  {
   "cell_type": "markdown",
   "id": "ba255b97",
   "metadata": {},
   "source": [
    "**Timeseries Analysis**"
   ]
  },
  {
   "cell_type": "code",
   "execution_count": 23,
   "id": "29c31ad9",
   "metadata": {},
   "outputs": [],
   "source": [
    "df_util.createOrReplaceTempView('utilization')"
   ]
  },
  {
   "cell_type": "code",
   "execution_count": 25,
   "id": "5cadf1fb",
   "metadata": {},
   "outputs": [
    {
     "name": "stdout",
     "output_type": "stream",
     "text": [
      "+---------+--------------------+--------------------+-----------------------+\n",
      "|server_id|min(cpu_utilization)|max(cpu_utilization)|stddev(cpu_utilization)|\n",
      "+---------+--------------------+--------------------+-----------------------+\n",
      "|      103|                0.56|                0.96|    0.11617507884178263|\n",
      "|      100|                0.27|                0.67|     0.1152264191787964|\n",
      "|      101|                 0.6|                 1.0|    0.11651726263197697|\n",
      "|      102|                0.56|                0.96|    0.11549678751286807|\n",
      "|      107|                0.45|                0.85|    0.11597417369783877|\n",
      "|      104|                0.51|                0.91|    0.11521679513850511|\n",
      "|      106|                0.22|                0.62|    0.11531539914568233|\n",
      "|      105|                0.29|                0.69|    0.11510721467869486|\n",
      "|      110|                0.35|                0.75|    0.11533251724450223|\n",
      "|      108|                0.55|                0.95|    0.11563100171171926|\n",
      "|      109|                0.36|                0.76|    0.11574898623219722|\n",
      "|      112|                0.52|                0.92|    0.11528867845082576|\n",
      "|      113|                0.58|                0.98|    0.11544345150353694|\n",
      "|      114|                0.33|                0.73|    0.11510268816097304|\n",
      "|      111|                0.36|                0.76|    0.11530221569464506|\n",
      "|      116|                 0.3|                 0.7|    0.11506079722349302|\n",
      "|      115|                0.44|                0.84|    0.11569664615014985|\n",
      "|      117|                0.38|                0.78|    0.11534593941519554|\n",
      "|      119|                0.22|                0.62|    0.11516031929842008|\n",
      "|      120|                0.35|                0.75|    0.11586355920838642|\n",
      "+---------+--------------------+--------------------+-----------------------+\n",
      "only showing top 20 rows\n",
      "\n"
     ]
    }
   ],
   "source": [
    "spark.sql('SELECT server_id, min(cpu_utilization), max(cpu_utilization), stddev(cpu_utilization) \\\n",
    "          FROM utilization \\\n",
    "          GROUP BY server_id').show()"
   ]
  },
  {
   "cell_type": "code",
   "execution_count": 28,
   "id": "6cedcd5d",
   "metadata": {},
   "outputs": [],
   "source": [
    "sql_window = spark.sql('SELECT event_datetime, server_id, cpu_utilization,  \\\n",
    "            avg(cpu_utilization) OVER (PARTITION BY server_id) AS avg_server_util \\\n",
    "            FROM utilization')"
   ]
  },
  {
   "cell_type": "code",
   "execution_count": 29,
   "id": "7cce940a",
   "metadata": {},
   "outputs": [
    {
     "name": "stdout",
     "output_type": "stream",
     "text": [
      "+-------------------+---------+---------------+------------------+\n",
      "|     event_datetime|server_id|cpu_utilization|   avg_server_util|\n",
      "+-------------------+---------+---------------+------------------+\n",
      "|03/05/2019 08:06:31|      110|           0.68|0.5537749999999892|\n",
      "|03/05/2019 08:11:31|      110|           0.58|0.5537749999999892|\n",
      "|03/05/2019 08:16:31|      110|           0.55|0.5537749999999892|\n",
      "|03/05/2019 08:21:31|      110|           0.63|0.5537749999999892|\n",
      "|03/05/2019 08:26:31|      110|           0.63|0.5537749999999892|\n",
      "|03/05/2019 08:31:31|      110|           0.71|0.5537749999999892|\n",
      "|03/05/2019 08:36:31|      110|           0.67|0.5537749999999892|\n",
      "|03/05/2019 08:41:31|      110|           0.55|0.5537749999999892|\n",
      "|03/05/2019 08:46:31|      110|           0.37|0.5537749999999892|\n",
      "|03/05/2019 08:51:31|      110|            0.7|0.5537749999999892|\n",
      "|03/05/2019 08:56:31|      110|           0.67|0.5537749999999892|\n",
      "|03/05/2019 09:01:31|      110|           0.56|0.5537749999999892|\n",
      "|03/05/2019 09:06:31|      110|           0.37|0.5537749999999892|\n",
      "|03/05/2019 09:11:31|      110|            0.6|0.5537749999999892|\n",
      "|03/05/2019 09:16:31|      110|           0.45|0.5537749999999892|\n",
      "|03/05/2019 09:21:31|      110|           0.65|0.5537749999999892|\n",
      "|03/05/2019 09:26:31|      110|           0.45|0.5537749999999892|\n",
      "|03/05/2019 09:31:31|      110|           0.67|0.5537749999999892|\n",
      "|03/05/2019 09:36:31|      110|            0.5|0.5537749999999892|\n",
      "|03/05/2019 09:41:31|      110|           0.53|0.5537749999999892|\n",
      "+-------------------+---------+---------------+------------------+\n",
      "only showing top 20 rows\n",
      "\n"
     ]
    }
   ],
   "source": [
    "sql_window.show()"
   ]
  },
  {
   "cell_type": "code",
   "execution_count": 30,
   "id": "62642b59",
   "metadata": {},
   "outputs": [
    {
     "name": "stdout",
     "output_type": "stream",
     "text": [
      "+-------------------+---------+---------------+------------------+--------------------+\n",
      "|     event_datetime|server_id|cpu_utilization|   avg_server_util|   delta_server_util|\n",
      "+-------------------+---------+---------------+------------------+--------------------+\n",
      "|03/05/2019 08:06:31|      110|           0.68|0.5537749999999892|  0.1262250000000108|\n",
      "|03/05/2019 08:11:31|      110|           0.58|0.5537749999999892|0.026225000000010712|\n",
      "|03/05/2019 08:16:31|      110|           0.55|0.5537749999999892|-0.00377499999998...|\n",
      "|03/05/2019 08:21:31|      110|           0.63|0.5537749999999892| 0.07622500000001076|\n",
      "|03/05/2019 08:26:31|      110|           0.63|0.5537749999999892| 0.07622500000001076|\n",
      "|03/05/2019 08:31:31|      110|           0.71|0.5537749999999892| 0.15622500000001072|\n",
      "|03/05/2019 08:36:31|      110|           0.67|0.5537749999999892| 0.11622500000001079|\n",
      "|03/05/2019 08:41:31|      110|           0.55|0.5537749999999892|-0.00377499999998...|\n",
      "|03/05/2019 08:46:31|      110|           0.37|0.5537749999999892|-0.18377499999998925|\n",
      "|03/05/2019 08:51:31|      110|            0.7|0.5537749999999892|  0.1462250000000107|\n",
      "|03/05/2019 08:56:31|      110|           0.67|0.5537749999999892| 0.11622500000001079|\n",
      "|03/05/2019 09:01:31|      110|           0.56|0.5537749999999892|0.006225000000010805|\n",
      "|03/05/2019 09:06:31|      110|           0.37|0.5537749999999892|-0.18377499999998925|\n",
      "|03/05/2019 09:11:31|      110|            0.6|0.5537749999999892| 0.04622500000001073|\n",
      "|03/05/2019 09:16:31|      110|           0.45|0.5537749999999892|-0.10377499999998924|\n",
      "|03/05/2019 09:21:31|      110|           0.65|0.5537749999999892| 0.09622500000001077|\n",
      "|03/05/2019 09:26:31|      110|           0.45|0.5537749999999892|-0.10377499999998924|\n",
      "|03/05/2019 09:31:31|      110|           0.67|0.5537749999999892| 0.11622500000001079|\n",
      "|03/05/2019 09:36:31|      110|            0.5|0.5537749999999892|-0.05377499999998925|\n",
      "|03/05/2019 09:41:31|      110|           0.53|0.5537749999999892|-0.02377499999998922|\n",
      "+-------------------+---------+---------------+------------------+--------------------+\n",
      "only showing top 20 rows\n",
      "\n"
     ]
    }
   ],
   "source": [
    "sql_window2 = spark.sql('SELECT event_datetime, server_id, cpu_utilization,  \\\n",
    "            avg(cpu_utilization) OVER (PARTITION BY server_id) AS avg_server_util, \\\n",
    "            cpu_utilization - avg(cpu_utilization) OVER (PARTITION BY server_id) AS delta_server_util \\\n",
    "            FROM utilization')\n",
    "sql_window2.show()"
   ]
  },
  {
   "cell_type": "code",
   "execution_count": 31,
   "id": "17e9dc89",
   "metadata": {},
   "outputs": [
    {
     "name": "stdout",
     "output_type": "stream",
     "text": [
      "+-------------------+---------+---------------+-------------------+\n",
      "|     event_datetime|server_id|cpu_utilization|    avg_server_util|\n",
      "+-------------------+---------+---------------+-------------------+\n",
      "|03/05/2019 08:06:31|      110|           0.68|               0.63|\n",
      "|03/05/2019 08:11:31|      110|           0.58| 0.6033333333333334|\n",
      "|03/05/2019 08:16:31|      110|           0.55| 0.5866666666666666|\n",
      "|03/05/2019 08:21:31|      110|           0.63| 0.6033333333333334|\n",
      "|03/05/2019 08:26:31|      110|           0.63| 0.6566666666666666|\n",
      "|03/05/2019 08:31:31|      110|           0.71| 0.6699999999999999|\n",
      "|03/05/2019 08:36:31|      110|           0.67| 0.6433333333333333|\n",
      "|03/05/2019 08:41:31|      110|           0.55| 0.5300000000000001|\n",
      "|03/05/2019 08:46:31|      110|           0.37|               0.54|\n",
      "|03/05/2019 08:51:31|      110|            0.7|               0.58|\n",
      "|03/05/2019 08:56:31|      110|           0.67| 0.6433333333333334|\n",
      "|03/05/2019 09:01:31|      110|           0.56| 0.5333333333333333|\n",
      "|03/05/2019 09:06:31|      110|           0.37|               0.51|\n",
      "|03/05/2019 09:11:31|      110|            0.6|0.47333333333333333|\n",
      "|03/05/2019 09:16:31|      110|           0.45| 0.5666666666666668|\n",
      "|03/05/2019 09:21:31|      110|           0.65| 0.5166666666666667|\n",
      "|03/05/2019 09:26:31|      110|           0.45|               0.59|\n",
      "|03/05/2019 09:31:31|      110|           0.67|               0.54|\n",
      "|03/05/2019 09:36:31|      110|            0.5| 0.5666666666666667|\n",
      "|03/05/2019 09:41:31|      110|           0.53| 0.5133333333333333|\n",
      "+-------------------+---------+---------------+-------------------+\n",
      "only showing top 20 rows\n",
      "\n"
     ]
    }
   ],
   "source": [
    "sql_window3 = spark.sql('SELECT event_datetime, server_id, cpu_utilization,  \\\n",
    "            avg(cpu_utilization) OVER (PARTITION BY server_id ORDER BY event_datetime \\\n",
    "                                        ROWS BETWEEN 1 PRECEDING AND 1 FOLLOWING) AS avg_server_util \\\n",
    "            FROM utilization')\n",
    "sql_window3.show()"
   ]
  },
  {
   "cell_type": "markdown",
   "id": "95c523c7",
   "metadata": {},
   "source": [
    "**Basic Machine Learning**"
   ]
  },
  {
   "cell_type": "code",
   "execution_count": 34,
   "id": "d48441ef",
   "metadata": {},
   "outputs": [],
   "source": [
    "from pyspark.ml.linalg import Vectors\n",
    "from pyspark.ml.feature import VectorAssembler\n",
    "from pyspark.ml.clustering import KMeans"
   ]
  },
  {
   "cell_type": "code",
   "execution_count": 35,
   "id": "243ea9e1",
   "metadata": {},
   "outputs": [
    {
     "name": "stdout",
     "output_type": "stream",
     "text": [
      "+---------------+-------------------+-----------+---------+-------------+\n",
      "|cpu_utilization|     event_datetime|free_memory|server_id|session_count|\n",
      "+---------------+-------------------+-----------+---------+-------------+\n",
      "|           0.57|03/05/2019 08:06:14|       0.51|      100|           47|\n",
      "|           0.47|03/05/2019 08:11:14|       0.62|      100|           43|\n",
      "|           0.56|03/05/2019 08:16:14|       0.57|      100|           62|\n",
      "|           0.57|03/05/2019 08:21:14|       0.56|      100|           50|\n",
      "|           0.35|03/05/2019 08:26:14|       0.46|      100|           43|\n",
      "|           0.41|03/05/2019 08:31:14|       0.58|      100|           48|\n",
      "|           0.57|03/05/2019 08:36:14|       0.35|      100|           58|\n",
      "|           0.41|03/05/2019 08:41:14|        0.4|      100|           58|\n",
      "|           0.53|03/05/2019 08:46:14|       0.35|      100|           62|\n",
      "|           0.51|03/05/2019 08:51:14|        0.6|      100|           45|\n",
      "|           0.32|03/05/2019 08:56:14|       0.37|      100|           47|\n",
      "|           0.62|03/05/2019 09:01:14|       0.59|      100|           60|\n",
      "|           0.66|03/05/2019 09:06:14|       0.72|      100|           57|\n",
      "|           0.54|03/05/2019 09:11:14|       0.54|      100|           44|\n",
      "|           0.29|03/05/2019 09:16:14|        0.4|      100|           47|\n",
      "|           0.43|03/05/2019 09:21:14|       0.68|      100|           66|\n",
      "|           0.49|03/05/2019 09:26:14|       0.66|      100|           65|\n",
      "|           0.64|03/05/2019 09:31:14|       0.55|      100|           66|\n",
      "|           0.42|03/05/2019 09:36:14|        0.6|      100|           42|\n",
      "|           0.55|03/05/2019 09:41:14|       0.59|      100|           63|\n",
      "+---------------+-------------------+-----------+---------+-------------+\n",
      "only showing top 20 rows\n",
      "\n"
     ]
    }
   ],
   "source": [
    "df_util.show()"
   ]
  },
  {
   "cell_type": "code",
   "execution_count": 36,
   "id": "b227f38b",
   "metadata": {},
   "outputs": [],
   "source": [
    "#combines columns into one vector\n",
    "vectorAssembler = VectorAssembler(inputCols = ['cpu_utilization', 'free_memory', 'session_count'], outputCol = 'features')"
   ]
  },
  {
   "cell_type": "code",
   "execution_count": 37,
   "id": "0dcf1f0d",
   "metadata": {},
   "outputs": [],
   "source": [
    "vcluster_df = vectorAssembler.transform(df_util)"
   ]
  },
  {
   "cell_type": "code",
   "execution_count": 38,
   "id": "0b4658d0",
   "metadata": {},
   "outputs": [
    {
     "name": "stdout",
     "output_type": "stream",
     "text": [
      "+---------------+-------------------+-----------+---------+-------------+----------------+\n",
      "|cpu_utilization|     event_datetime|free_memory|server_id|session_count|        features|\n",
      "+---------------+-------------------+-----------+---------+-------------+----------------+\n",
      "|           0.57|03/05/2019 08:06:14|       0.51|      100|           47|[0.57,0.51,47.0]|\n",
      "|           0.47|03/05/2019 08:11:14|       0.62|      100|           43|[0.47,0.62,43.0]|\n",
      "|           0.56|03/05/2019 08:16:14|       0.57|      100|           62|[0.56,0.57,62.0]|\n",
      "|           0.57|03/05/2019 08:21:14|       0.56|      100|           50|[0.57,0.56,50.0]|\n",
      "|           0.35|03/05/2019 08:26:14|       0.46|      100|           43|[0.35,0.46,43.0]|\n",
      "|           0.41|03/05/2019 08:31:14|       0.58|      100|           48|[0.41,0.58,48.0]|\n",
      "|           0.57|03/05/2019 08:36:14|       0.35|      100|           58|[0.57,0.35,58.0]|\n",
      "|           0.41|03/05/2019 08:41:14|        0.4|      100|           58| [0.41,0.4,58.0]|\n",
      "|           0.53|03/05/2019 08:46:14|       0.35|      100|           62|[0.53,0.35,62.0]|\n",
      "|           0.51|03/05/2019 08:51:14|        0.6|      100|           45| [0.51,0.6,45.0]|\n",
      "|           0.32|03/05/2019 08:56:14|       0.37|      100|           47|[0.32,0.37,47.0]|\n",
      "|           0.62|03/05/2019 09:01:14|       0.59|      100|           60|[0.62,0.59,60.0]|\n",
      "|           0.66|03/05/2019 09:06:14|       0.72|      100|           57|[0.66,0.72,57.0]|\n",
      "|           0.54|03/05/2019 09:11:14|       0.54|      100|           44|[0.54,0.54,44.0]|\n",
      "|           0.29|03/05/2019 09:16:14|        0.4|      100|           47| [0.29,0.4,47.0]|\n",
      "|           0.43|03/05/2019 09:21:14|       0.68|      100|           66|[0.43,0.68,66.0]|\n",
      "|           0.49|03/05/2019 09:26:14|       0.66|      100|           65|[0.49,0.66,65.0]|\n",
      "|           0.64|03/05/2019 09:31:14|       0.55|      100|           66|[0.64,0.55,66.0]|\n",
      "|           0.42|03/05/2019 09:36:14|        0.6|      100|           42| [0.42,0.6,42.0]|\n",
      "|           0.55|03/05/2019 09:41:14|       0.59|      100|           63|[0.55,0.59,63.0]|\n",
      "+---------------+-------------------+-----------+---------+-------------+----------------+\n",
      "only showing top 20 rows\n",
      "\n"
     ]
    }
   ],
   "source": [
    "vcluster_df.show()"
   ]
  },
  {
   "cell_type": "code",
   "execution_count": 39,
   "id": "79ea7bf7",
   "metadata": {},
   "outputs": [],
   "source": [
    "kmeans = KMeans().setK(3)"
   ]
  },
  {
   "cell_type": "code",
   "execution_count": 40,
   "id": "f3bbb610",
   "metadata": {},
   "outputs": [],
   "source": [
    "kmeans = kmeans.setSeed(1)"
   ]
  },
  {
   "cell_type": "code",
   "execution_count": 41,
   "id": "78e8c760",
   "metadata": {},
   "outputs": [],
   "source": [
    "#by default looks for data in column called 'features', so we only have to specify dataframe here\n",
    "kmodel = kmeans.fit(vcluster_df)"
   ]
  },
  {
   "cell_type": "code",
   "execution_count": 42,
   "id": "91b6ea2a",
   "metadata": {},
   "outputs": [
    {
     "data": {
      "text/plain": [
       "[array([ 0.52047775,  0.47836303, 51.79927162]),\n",
       " array([ 0.62881549,  0.37094643, 70.43030159]),\n",
       " array([ 0.71931575,  0.28104316, 88.23965784])]"
      ]
     },
     "execution_count": 42,
     "metadata": {},
     "output_type": "execute_result"
    }
   ],
   "source": [
    "kmodel.clusterCenters()"
   ]
  },
  {
   "cell_type": "markdown",
   "id": "d81b5a1e",
   "metadata": {},
   "source": [
    "**-part2-**"
   ]
  },
  {
   "cell_type": "code",
   "execution_count": 43,
   "id": "3638ccb4",
   "metadata": {},
   "outputs": [],
   "source": [
    "from pyspark.ml.regression import LinearRegression"
   ]
  },
  {
   "cell_type": "code",
   "execution_count": 44,
   "id": "bb8432c0",
   "metadata": {},
   "outputs": [],
   "source": [
    "vectorAssembler = VectorAssembler(inputCols = ['cpu_utilization'], outputCol = 'features')"
   ]
  },
  {
   "cell_type": "code",
   "execution_count": 45,
   "id": "e57b7f0d",
   "metadata": {},
   "outputs": [],
   "source": [
    "df_vutil = vectorAssembler.transform(df_util)"
   ]
  },
  {
   "cell_type": "code",
   "execution_count": 46,
   "id": "ef4d3ea5",
   "metadata": {},
   "outputs": [
    {
     "name": "stdout",
     "output_type": "stream",
     "text": [
      "+---------------+-------------------+-----------+---------+-------------+--------+\n",
      "|cpu_utilization|     event_datetime|free_memory|server_id|session_count|features|\n",
      "+---------------+-------------------+-----------+---------+-------------+--------+\n",
      "|           0.57|03/05/2019 08:06:14|       0.51|      100|           47|  [0.57]|\n",
      "|           0.47|03/05/2019 08:11:14|       0.62|      100|           43|  [0.47]|\n",
      "|           0.56|03/05/2019 08:16:14|       0.57|      100|           62|  [0.56]|\n",
      "|           0.57|03/05/2019 08:21:14|       0.56|      100|           50|  [0.57]|\n",
      "|           0.35|03/05/2019 08:26:14|       0.46|      100|           43|  [0.35]|\n",
      "|           0.41|03/05/2019 08:31:14|       0.58|      100|           48|  [0.41]|\n",
      "|           0.57|03/05/2019 08:36:14|       0.35|      100|           58|  [0.57]|\n",
      "|           0.41|03/05/2019 08:41:14|        0.4|      100|           58|  [0.41]|\n",
      "|           0.53|03/05/2019 08:46:14|       0.35|      100|           62|  [0.53]|\n",
      "|           0.51|03/05/2019 08:51:14|        0.6|      100|           45|  [0.51]|\n",
      "|           0.32|03/05/2019 08:56:14|       0.37|      100|           47|  [0.32]|\n",
      "|           0.62|03/05/2019 09:01:14|       0.59|      100|           60|  [0.62]|\n",
      "|           0.66|03/05/2019 09:06:14|       0.72|      100|           57|  [0.66]|\n",
      "|           0.54|03/05/2019 09:11:14|       0.54|      100|           44|  [0.54]|\n",
      "|           0.29|03/05/2019 09:16:14|        0.4|      100|           47|  [0.29]|\n",
      "|           0.43|03/05/2019 09:21:14|       0.68|      100|           66|  [0.43]|\n",
      "|           0.49|03/05/2019 09:26:14|       0.66|      100|           65|  [0.49]|\n",
      "|           0.64|03/05/2019 09:31:14|       0.55|      100|           66|  [0.64]|\n",
      "|           0.42|03/05/2019 09:36:14|        0.6|      100|           42|  [0.42]|\n",
      "|           0.55|03/05/2019 09:41:14|       0.59|      100|           63|  [0.55]|\n",
      "+---------------+-------------------+-----------+---------+-------------+--------+\n",
      "only showing top 20 rows\n",
      "\n"
     ]
    }
   ],
   "source": [
    "df_vutil.show()"
   ]
  },
  {
   "cell_type": "code",
   "execution_count": 47,
   "id": "4840b194",
   "metadata": {},
   "outputs": [],
   "source": [
    "lr = LinearRegression(featuresCol = 'features', labelCol = 'session_count')"
   ]
  },
  {
   "cell_type": "code",
   "execution_count": 48,
   "id": "9848f3bb",
   "metadata": {},
   "outputs": [],
   "source": [
    "lrModel = lr.fit(df_vutil)"
   ]
  },
  {
   "cell_type": "code",
   "execution_count": 49,
   "id": "33f4424b",
   "metadata": {},
   "outputs": [
    {
     "data": {
      "text/plain": [
       "DenseVector([47.024])"
      ]
     },
     "execution_count": 49,
     "metadata": {},
     "output_type": "execute_result"
    }
   ],
   "source": [
    "lrModel.coefficients"
   ]
  },
  {
   "cell_type": "code",
   "execution_count": 50,
   "id": "9fd98a79",
   "metadata": {},
   "outputs": [
    {
     "data": {
      "text/plain": [
       "40.41695103552787"
      ]
     },
     "execution_count": 50,
     "metadata": {},
     "output_type": "execute_result"
    }
   ],
   "source": [
    "lrModel.intercept"
   ]
  },
  {
   "cell_type": "code",
   "execution_count": 51,
   "id": "e108bdc2",
   "metadata": {},
   "outputs": [
    {
     "data": {
      "text/plain": [
       "12.837990225931918"
      ]
     },
     "execution_count": 51,
     "metadata": {},
     "output_type": "execute_result"
    }
   ],
   "source": [
    "lrModel.summary.rootMeanSquaredError"
   ]
  },
  {
   "cell_type": "code",
   "execution_count": null,
   "id": "ed5a37e0",
   "metadata": {},
   "outputs": [],
   "source": []
  }
 ],
 "metadata": {
  "kernelspec": {
   "display_name": "Python 3 (ipykernel)",
   "language": "python",
   "name": "python3"
  },
  "language_info": {
   "codemirror_mode": {
    "name": "ipython",
    "version": 3
   },
   "file_extension": ".py",
   "mimetype": "text/x-python",
   "name": "python",
   "nbconvert_exporter": "python",
   "pygments_lexer": "ipython3",
   "version": "3.9.7"
  }
 },
 "nbformat": 4,
 "nbformat_minor": 5
}
