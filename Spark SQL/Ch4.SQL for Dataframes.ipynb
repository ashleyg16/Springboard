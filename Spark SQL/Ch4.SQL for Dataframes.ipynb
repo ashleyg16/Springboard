{
 "cells": [
  {
   "cell_type": "code",
   "execution_count": 1,
   "id": "1297ff0d",
   "metadata": {},
   "outputs": [],
   "source": [
    "from pyspark.sql import SparkSession"
   ]
  },
  {
   "cell_type": "code",
   "execution_count": 2,
   "id": "cc1f8af5",
   "metadata": {},
   "outputs": [],
   "source": [
    "spark = SparkSession.builder.getOrCreate()"
   ]
  },
  {
   "cell_type": "code",
   "execution_count": 3,
   "id": "a70f526f",
   "metadata": {},
   "outputs": [],
   "source": [
    "data_path = '/Users/ashle/Springboard/Spark SQL/Data'"
   ]
  },
  {
   "cell_type": "code",
   "execution_count": 4,
   "id": "eae1dfc3",
   "metadata": {},
   "outputs": [],
   "source": [
    "json_df_path = data_path + '/utilization.json'\n",
    "df = spark.read.format('json').load(json_df_path)"
   ]
  },
  {
   "cell_type": "code",
   "execution_count": 5,
   "id": "e9238169",
   "metadata": {},
   "outputs": [
    {
     "name": "stdout",
     "output_type": "stream",
     "text": [
      "+---------------+-------------------+-----------+---------+-------------+\n",
      "|cpu_utilization|     event_datetime|free_memory|server_id|session_count|\n",
      "+---------------+-------------------+-----------+---------+-------------+\n",
      "|           0.57|03/05/2019 08:06:14|       0.51|      100|           47|\n",
      "|           0.47|03/05/2019 08:11:14|       0.62|      100|           43|\n",
      "|           0.56|03/05/2019 08:16:14|       0.57|      100|           62|\n",
      "|           0.57|03/05/2019 08:21:14|       0.56|      100|           50|\n",
      "|           0.35|03/05/2019 08:26:14|       0.46|      100|           43|\n",
      "|           0.41|03/05/2019 08:31:14|       0.58|      100|           48|\n",
      "|           0.57|03/05/2019 08:36:14|       0.35|      100|           58|\n",
      "|           0.41|03/05/2019 08:41:14|        0.4|      100|           58|\n",
      "|           0.53|03/05/2019 08:46:14|       0.35|      100|           62|\n",
      "|           0.51|03/05/2019 08:51:14|        0.6|      100|           45|\n",
      "+---------------+-------------------+-----------+---------+-------------+\n",
      "only showing top 10 rows\n",
      "\n"
     ]
    }
   ],
   "source": [
    "df.show(10)"
   ]
  },
  {
   "cell_type": "code",
   "execution_count": 6,
   "id": "75d22ec8",
   "metadata": {},
   "outputs": [
    {
     "data": {
      "text/plain": [
       "500000"
      ]
     },
     "execution_count": 6,
     "metadata": {},
     "output_type": "execute_result"
    }
   ],
   "source": [
    "df.count()"
   ]
  },
  {
   "cell_type": "markdown",
   "id": "a82076dd",
   "metadata": {},
   "source": [
    "**Querying**"
   ]
  },
  {
   "cell_type": "code",
   "execution_count": 7,
   "id": "a7a54998",
   "metadata": {},
   "outputs": [],
   "source": [
    "df.createOrReplaceTempView('utilization')"
   ]
  },
  {
   "cell_type": "code",
   "execution_count": 8,
   "id": "f1eb83ef",
   "metadata": {},
   "outputs": [],
   "source": [
    "df_sql = spark.sql('SELECT * FROM utilization LIMIT 10')"
   ]
  },
  {
   "cell_type": "code",
   "execution_count": 9,
   "id": "2570b3d1",
   "metadata": {},
   "outputs": [
    {
     "name": "stdout",
     "output_type": "stream",
     "text": [
      "+---------------+-------------------+-----------+---------+-------------+\n",
      "|cpu_utilization|     event_datetime|free_memory|server_id|session_count|\n",
      "+---------------+-------------------+-----------+---------+-------------+\n",
      "|           0.57|03/05/2019 08:06:14|       0.51|      100|           47|\n",
      "|           0.47|03/05/2019 08:11:14|       0.62|      100|           43|\n",
      "|           0.56|03/05/2019 08:16:14|       0.57|      100|           62|\n",
      "|           0.57|03/05/2019 08:21:14|       0.56|      100|           50|\n",
      "|           0.35|03/05/2019 08:26:14|       0.46|      100|           43|\n",
      "|           0.41|03/05/2019 08:31:14|       0.58|      100|           48|\n",
      "|           0.57|03/05/2019 08:36:14|       0.35|      100|           58|\n",
      "|           0.41|03/05/2019 08:41:14|        0.4|      100|           58|\n",
      "|           0.53|03/05/2019 08:46:14|       0.35|      100|           62|\n",
      "|           0.51|03/05/2019 08:51:14|        0.6|      100|           45|\n",
      "+---------------+-------------------+-----------+---------+-------------+\n",
      "\n"
     ]
    }
   ],
   "source": [
    "df_sql.show()"
   ]
  },
  {
   "cell_type": "code",
   "execution_count": 10,
   "id": "349fc77e",
   "metadata": {},
   "outputs": [
    {
     "data": {
      "text/plain": [
       "10"
      ]
     },
     "execution_count": 10,
     "metadata": {},
     "output_type": "execute_result"
    }
   ],
   "source": [
    "df_sql.count()"
   ]
  },
  {
   "cell_type": "code",
   "execution_count": 12,
   "id": "aa570b65",
   "metadata": {},
   "outputs": [],
   "source": [
    "df_sql = spark.sql('SELECT server_id, session_count FROM utilization LIMIT 10')"
   ]
  },
  {
   "cell_type": "code",
   "execution_count": 13,
   "id": "c3230178",
   "metadata": {},
   "outputs": [
    {
     "name": "stdout",
     "output_type": "stream",
     "text": [
      "+---------+-------------+\n",
      "|server_id|session_count|\n",
      "+---------+-------------+\n",
      "|      100|           47|\n",
      "|      100|           43|\n",
      "|      100|           62|\n",
      "|      100|           50|\n",
      "|      100|           43|\n",
      "|      100|           48|\n",
      "|      100|           58|\n",
      "|      100|           58|\n",
      "|      100|           62|\n",
      "|      100|           45|\n",
      "+---------+-------------+\n",
      "\n"
     ]
    }
   ],
   "source": [
    "df_sql.show()"
   ]
  },
  {
   "cell_type": "code",
   "execution_count": 14,
   "id": "06016f41",
   "metadata": {},
   "outputs": [],
   "source": [
    "df_sql = spark.sql('SELECT server_id AS sid, session_count AS sc FROM utilization LIMIT 10')"
   ]
  },
  {
   "cell_type": "code",
   "execution_count": 15,
   "id": "2a1aef7d",
   "metadata": {},
   "outputs": [
    {
     "name": "stdout",
     "output_type": "stream",
     "text": [
      "+---+---+\n",
      "|sid| sc|\n",
      "+---+---+\n",
      "|100| 47|\n",
      "|100| 43|\n",
      "|100| 62|\n",
      "|100| 50|\n",
      "|100| 43|\n",
      "|100| 48|\n",
      "|100| 58|\n",
      "|100| 58|\n",
      "|100| 62|\n",
      "|100| 45|\n",
      "+---+---+\n",
      "\n"
     ]
    }
   ],
   "source": [
    "df_sql.show()"
   ]
  },
  {
   "cell_type": "markdown",
   "id": "ecc806ea",
   "metadata": {},
   "source": [
    "**Filtering**"
   ]
  },
  {
   "cell_type": "code",
   "execution_count": 17,
   "id": "774b5b5b",
   "metadata": {},
   "outputs": [
    {
     "name": "stdout",
     "output_type": "stream",
     "text": [
      "+---------------+-------------------+-----------+---------+-------------+\n",
      "|cpu_utilization|     event_datetime|free_memory|server_id|session_count|\n",
      "+---------------+-------------------+-----------+---------+-------------+\n",
      "|           0.66|03/05/2019 08:06:48|       0.31|      120|           54|\n",
      "|           0.58|03/05/2019 08:11:48|       0.38|      120|           64|\n",
      "|           0.55|03/05/2019 08:16:48|       0.61|      120|           54|\n",
      "|            0.7|03/05/2019 08:21:48|       0.35|      120|           80|\n",
      "|            0.6|03/05/2019 08:26:48|       0.39|      120|           71|\n",
      "|           0.53|03/05/2019 08:31:48|       0.35|      120|           49|\n",
      "|           0.73|03/05/2019 08:36:48|       0.42|      120|           73|\n",
      "|           0.41|03/05/2019 08:41:48|        0.6|      120|           72|\n",
      "|           0.62|03/05/2019 08:46:48|       0.57|      120|           57|\n",
      "|           0.67|03/05/2019 08:51:48|       0.44|      120|           78|\n",
      "|           0.67|03/05/2019 08:56:48|       0.38|      120|           73|\n",
      "|           0.39|03/05/2019 09:01:48|       0.47|      120|           58|\n",
      "|            0.5|03/05/2019 09:06:48|       0.29|      120|           78|\n",
      "|           0.38|03/05/2019 09:11:48|       0.38|      120|           56|\n",
      "|           0.53|03/05/2019 09:16:48|       0.38|      120|           47|\n",
      "|           0.74|03/05/2019 09:21:48|       0.25|      120|           69|\n",
      "|           0.53|03/05/2019 09:26:48|       0.57|      120|           73|\n",
      "|           0.54|03/05/2019 09:31:48|       0.64|      120|           65|\n",
      "|            0.7|03/05/2019 09:36:48|       0.52|      120|           55|\n",
      "|           0.54|03/05/2019 09:41:48|       0.27|      120|           74|\n",
      "+---------------+-------------------+-----------+---------+-------------+\n",
      "only showing top 20 rows\n",
      "\n"
     ]
    }
   ],
   "source": [
    "df_sql = spark.sql('SELECT * FROM utilization WHERE server_id = 120')\n",
    "df_sql.show()"
   ]
  },
  {
   "cell_type": "code",
   "execution_count": 18,
   "id": "42c627b8",
   "metadata": {},
   "outputs": [
    {
     "data": {
      "text/plain": [
       "10000"
      ]
     },
     "execution_count": 18,
     "metadata": {},
     "output_type": "execute_result"
    }
   ],
   "source": [
    "df_sql.count()"
   ]
  },
  {
   "cell_type": "code",
   "execution_count": 20,
   "id": "89c18da2",
   "metadata": {},
   "outputs": [
    {
     "name": "stdout",
     "output_type": "stream",
     "text": [
      "+---------+-------------+\n",
      "|server_id|session_count|\n",
      "+---------+-------------+\n",
      "|      100|           71|\n",
      "|      100|           71|\n",
      "|      100|           71|\n",
      "|      100|           71|\n",
      "|      100|           72|\n",
      "|      100|           72|\n",
      "|      100|           71|\n",
      "|      100|           71|\n",
      "|      100|           71|\n",
      "|      100|           72|\n",
      "|      100|           71|\n",
      "|      100|           72|\n",
      "|      100|           71|\n",
      "|      100|           71|\n",
      "|      100|           72|\n",
      "|      100|           71|\n",
      "|      100|           72|\n",
      "|      100|           72|\n",
      "|      100|           71|\n",
      "|      100|           71|\n",
      "+---------+-------------+\n",
      "only showing top 20 rows\n",
      "\n"
     ]
    }
   ],
   "source": [
    "df_sql = spark.sql('SELECT server_id, session_count FROM utilization WHERE session_count > 70')\n",
    "df_sql.show()"
   ]
  },
  {
   "cell_type": "code",
   "execution_count": 21,
   "id": "8a9de769",
   "metadata": {},
   "outputs": [
    {
     "data": {
      "text/plain": [
       "239659"
      ]
     },
     "execution_count": 21,
     "metadata": {},
     "output_type": "execute_result"
    }
   ],
   "source": [
    "df_sql.count()"
   ]
  },
  {
   "cell_type": "code",
   "execution_count": 23,
   "id": "1f291a57",
   "metadata": {},
   "outputs": [
    {
     "name": "stdout",
     "output_type": "stream",
     "text": [
      "+---------+-------------+\n",
      "|server_id|session_count|\n",
      "+---------+-------------+\n",
      "|      120|           80|\n",
      "|      120|           71|\n",
      "|      120|           73|\n",
      "|      120|           72|\n",
      "|      120|           78|\n",
      "|      120|           73|\n",
      "|      120|           78|\n",
      "|      120|           73|\n",
      "|      120|           74|\n",
      "|      120|           78|\n",
      "|      120|           75|\n",
      "|      120|           75|\n",
      "|      120|           73|\n",
      "|      120|           79|\n",
      "|      120|           72|\n",
      "|      120|           77|\n",
      "|      120|           75|\n",
      "|      120|           72|\n",
      "|      120|           79|\n",
      "|      120|           75|\n",
      "+---------+-------------+\n",
      "only showing top 20 rows\n",
      "\n"
     ]
    }
   ],
   "source": [
    "df_sql = spark.sql('SELECT server_id, session_count FROM utilization WHERE session_count > 70 AND server_id = 120')\n",
    "df_sql.show()"
   ]
  },
  {
   "cell_type": "code",
   "execution_count": 25,
   "id": "bb5321f5",
   "metadata": {},
   "outputs": [
    {
     "data": {
      "text/plain": [
       "2733"
      ]
     },
     "execution_count": 25,
     "metadata": {},
     "output_type": "execute_result"
    }
   ],
   "source": [
    "df_sql.count()"
   ]
  },
  {
   "cell_type": "code",
   "execution_count": 26,
   "id": "8353b0a1",
   "metadata": {},
   "outputs": [
    {
     "name": "stdout",
     "output_type": "stream",
     "text": [
      "+---------+-------------+\n",
      "|server_id|session_count|\n",
      "+---------+-------------+\n",
      "|      120|           80|\n",
      "|      120|           80|\n",
      "|      120|           80|\n",
      "|      120|           80|\n",
      "|      120|           80|\n",
      "|      120|           80|\n",
      "|      120|           80|\n",
      "|      120|           80|\n",
      "|      120|           80|\n",
      "|      120|           80|\n",
      "|      120|           80|\n",
      "|      120|           80|\n",
      "|      120|           80|\n",
      "|      120|           80|\n",
      "|      120|           80|\n",
      "|      120|           80|\n",
      "|      120|           80|\n",
      "|      120|           80|\n",
      "|      120|           80|\n",
      "|      120|           80|\n",
      "+---------+-------------+\n",
      "only showing top 20 rows\n",
      "\n"
     ]
    }
   ],
   "source": [
    "df_sql = spark.sql('SELECT server_id, session_count \\\n",
    "                    FROM utilization \\\n",
    "                    WHERE session_count > 70 AND server_id = 120 \\\n",
    "                    ORDER BY session_count DESC')\n",
    "df_sql.show()"
   ]
  },
  {
   "cell_type": "markdown",
   "id": "5b05ebe7",
   "metadata": {},
   "source": [
    "**Aggregating**"
   ]
  },
  {
   "cell_type": "code",
   "execution_count": 27,
   "id": "0d1354ee",
   "metadata": {},
   "outputs": [
    {
     "name": "stdout",
     "output_type": "stream",
     "text": [
      "+--------+\n",
      "|count(1)|\n",
      "+--------+\n",
      "|  500000|\n",
      "+--------+\n",
      "\n"
     ]
    }
   ],
   "source": [
    "df_count = spark.sql('SELECT count(*) FROM utilization')\n",
    "df_count.show()"
   ]
  },
  {
   "cell_type": "code",
   "execution_count": 28,
   "id": "67b780ad",
   "metadata": {},
   "outputs": [
    {
     "name": "stdout",
     "output_type": "stream",
     "text": [
      "+--------+\n",
      "|count(1)|\n",
      "+--------+\n",
      "|  239659|\n",
      "+--------+\n",
      "\n"
     ]
    }
   ],
   "source": [
    "df_sql = spark.sql('SELECT count(*) \\\n",
    "                    FROM utilization \\\n",
    "                    WHERE session_count > 70')\n",
    "df_sql.show()"
   ]
  },
  {
   "cell_type": "code",
   "execution_count": 31,
   "id": "9c60883a",
   "metadata": {},
   "outputs": [
    {
     "name": "stdout",
     "output_type": "stream",
     "text": [
      "+---------+--------+\n",
      "|server_id|count(1)|\n",
      "+---------+--------+\n",
      "|      103|    8744|\n",
      "|      100|     391|\n",
      "|      101|    9808|\n",
      "|      102|    8586|\n",
      "|      107|    5646|\n",
      "|      104|    7366|\n",
      "|      105|    1110|\n",
      "|      110|    2826|\n",
      "|      108|    8375|\n",
      "|      109|    3129|\n",
      "|      112|    7425|\n",
      "|      113|    9418|\n",
      "|      114|    2128|\n",
      "|      111|    3093|\n",
      "|      116|    1167|\n",
      "|      115|    5284|\n",
      "|      117|    3605|\n",
      "|      120|    2733|\n",
      "|      118|    7913|\n",
      "|      121|    7084|\n",
      "+---------+--------+\n",
      "only showing top 20 rows\n",
      "\n"
     ]
    }
   ],
   "source": [
    "df_sql = spark.sql('SELECT server_id, count(*) \\\n",
    "                    FROM utilization \\\n",
    "                    WHERE session_count > 70 \\\n",
    "                    GROUP BY server_id')\n",
    "df_sql.show()"
   ]
  },
  {
   "cell_type": "code",
   "execution_count": 32,
   "id": "68d8898c",
   "metadata": {},
   "outputs": [
    {
     "name": "stdout",
     "output_type": "stream",
     "text": [
      "+---------+--------+\n",
      "|server_id|count(1)|\n",
      "+---------+--------+\n",
      "|      101|    9808|\n",
      "|      113|    9418|\n",
      "|      145|    9304|\n",
      "|      103|    8744|\n",
      "|      102|    8586|\n",
      "|      133|    8583|\n",
      "|      108|    8375|\n",
      "|      149|    8288|\n",
      "|      137|    8248|\n",
      "|      148|    8027|\n",
      "|      123|    7918|\n",
      "|      118|    7913|\n",
      "|      112|    7425|\n",
      "|      139|    7383|\n",
      "|      104|    7366|\n",
      "|      121|    7084|\n",
      "|      142|    7084|\n",
      "|      146|    7072|\n",
      "|      126|    6365|\n",
      "|      144|    6220|\n",
      "+---------+--------+\n",
      "only showing top 20 rows\n",
      "\n"
     ]
    }
   ],
   "source": [
    "df_sql = spark.sql('SELECT server_id, count(*) \\\n",
    "                    FROM utilization \\\n",
    "                    WHERE session_count > 70 \\\n",
    "                    GROUP BY server_id \\\n",
    "                    ORDER BY count(*) DESC')\n",
    "df_sql.show()"
   ]
  },
  {
   "cell_type": "code",
   "execution_count": 34,
   "id": "e74e41dd",
   "metadata": {},
   "outputs": [
    {
     "name": "stdout",
     "output_type": "stream",
     "text": [
      "+---------+------------------+----------------------------+------------------+\n",
      "|server_id|min(session_count)|round(avg(session_count), 2)|max(session_count)|\n",
      "+---------+------------------+----------------------------+------------------+\n",
      "|      101|                71|                       87.67|               105|\n",
      "|      113|                71|                       86.96|               103|\n",
      "|      145|                71|                       86.98|               103|\n",
      "|      103|                71|                       85.76|               101|\n",
      "|      102|                71|                       85.71|               101|\n",
      "|      133|                71|                       85.47|               100|\n",
      "|      108|                71|                       85.12|               100|\n",
      "|      149|                71|                       84.96|                99|\n",
      "|      137|                71|                       85.01|                99|\n",
      "|      148|                71|                        84.7|                99|\n",
      "|      123|                71|                       84.53|                98|\n",
      "|      118|                71|                       84.66|                98|\n",
      "|      112|                71|                       83.55|                97|\n",
      "|      139|                71|                       83.33|                96|\n",
      "|      104|                71|                       83.35|                96|\n",
      "|      121|                71|                       82.89|                95|\n",
      "|      142|                71|                        82.9|                95|\n",
      "|      146|                71|                       82.95|                95|\n",
      "|      126|                71|                       81.56|                93|\n",
      "|      144|                71|                       81.38|                92|\n",
      "+---------+------------------+----------------------------+------------------+\n",
      "only showing top 20 rows\n",
      "\n"
     ]
    }
   ],
   "source": [
    "df_sql = spark.sql('SELECT server_id, min(session_count), round(avg(session_count),2), max(session_count) \\\n",
    "                    FROM utilization \\\n",
    "                    WHERE session_count > 70 \\\n",
    "                    GROUP BY server_id \\\n",
    "                    ORDER BY count(*) DESC')\n",
    "df_sql.show()"
   ]
  },
  {
   "cell_type": "markdown",
   "id": "dc2d45e1",
   "metadata": {},
   "source": [
    "**JOINING**"
   ]
  },
  {
   "cell_type": "code",
   "execution_count": 35,
   "id": "976ae220",
   "metadata": {},
   "outputs": [],
   "source": [
    "csv_df_path = data_path + '/server_name.csv'\n",
    "df_server = spark.read.csv(csv_df_path, header = True)"
   ]
  },
  {
   "cell_type": "code",
   "execution_count": 36,
   "id": "00c483c3",
   "metadata": {},
   "outputs": [
    {
     "name": "stdout",
     "output_type": "stream",
     "text": [
      "+---------+-----------+\n",
      "|server_id|server_name|\n",
      "+---------+-----------+\n",
      "|      100| 100 Server|\n",
      "|      101| 101 Server|\n",
      "|      102| 102 Server|\n",
      "|      103| 103 Server|\n",
      "|      104| 104 Server|\n",
      "|      105| 105 Server|\n",
      "|      106| 106 Server|\n",
      "|      107| 107 Server|\n",
      "|      108| 108 Server|\n",
      "|      109| 109 Server|\n",
      "|      110| 110 Server|\n",
      "|      111| 111 Server|\n",
      "|      112| 112 Server|\n",
      "|      113| 113 Server|\n",
      "|      114| 114 Server|\n",
      "|      115| 115 Server|\n",
      "|      116| 116 Server|\n",
      "|      117| 117 Server|\n",
      "|      118| 118 Server|\n",
      "|      119| 119 Server|\n",
      "+---------+-----------+\n",
      "only showing top 20 rows\n",
      "\n"
     ]
    }
   ],
   "source": [
    "df_server.show()"
   ]
  },
  {
   "cell_type": "code",
   "execution_count": 37,
   "id": "8cfc740b",
   "metadata": {},
   "outputs": [],
   "source": [
    "df_server.createOrReplaceTempView('server_name')"
   ]
  },
  {
   "cell_type": "code",
   "execution_count": 38,
   "id": "95c11bea",
   "metadata": {},
   "outputs": [
    {
     "name": "stdout",
     "output_type": "stream",
     "text": [
      "+---------+\n",
      "|server_id|\n",
      "+---------+\n",
      "|      100|\n",
      "|      101|\n",
      "|      102|\n",
      "|      103|\n",
      "|      104|\n",
      "|      105|\n",
      "|      106|\n",
      "|      107|\n",
      "|      108|\n",
      "|      109|\n",
      "|      110|\n",
      "|      111|\n",
      "|      112|\n",
      "|      113|\n",
      "|      114|\n",
      "|      115|\n",
      "|      116|\n",
      "|      117|\n",
      "|      118|\n",
      "|      119|\n",
      "+---------+\n",
      "only showing top 20 rows\n",
      "\n"
     ]
    }
   ],
   "source": [
    "df_count = spark.sql('SELECT DISTINCT server_id FROM utilization ORDER BY server_id')\n",
    "df_count.show()"
   ]
  },
  {
   "cell_type": "code",
   "execution_count": 39,
   "id": "4e3d9f5b",
   "metadata": {},
   "outputs": [
    {
     "name": "stdout",
     "output_type": "stream",
     "text": [
      "+--------------+--------------+\n",
      "|min(server_id)|max(server_id)|\n",
      "+--------------+--------------+\n",
      "|           100|           149|\n",
      "+--------------+--------------+\n",
      "\n"
     ]
    }
   ],
   "source": [
    "spark.sql('SELECT min(server_id), max(server_id) FROM utilization').show()"
   ]
  },
  {
   "cell_type": "code",
   "execution_count": 40,
   "id": "a277467d",
   "metadata": {},
   "outputs": [
    {
     "name": "stdout",
     "output_type": "stream",
     "text": [
      "+---------+-----------+-------------+\n",
      "|server_id|server_name|session_count|\n",
      "+---------+-----------+-------------+\n",
      "|      100| 100 Server|           47|\n",
      "|      100| 100 Server|           43|\n",
      "|      100| 100 Server|           62|\n",
      "|      100| 100 Server|           50|\n",
      "|      100| 100 Server|           43|\n",
      "|      100| 100 Server|           48|\n",
      "|      100| 100 Server|           58|\n",
      "|      100| 100 Server|           58|\n",
      "|      100| 100 Server|           62|\n",
      "|      100| 100 Server|           45|\n",
      "|      100| 100 Server|           47|\n",
      "|      100| 100 Server|           60|\n",
      "|      100| 100 Server|           57|\n",
      "|      100| 100 Server|           44|\n",
      "|      100| 100 Server|           47|\n",
      "|      100| 100 Server|           66|\n",
      "|      100| 100 Server|           65|\n",
      "|      100| 100 Server|           66|\n",
      "|      100| 100 Server|           42|\n",
      "|      100| 100 Server|           63|\n",
      "+---------+-----------+-------------+\n",
      "only showing top 20 rows\n",
      "\n"
     ]
    }
   ],
   "source": [
    "df_join = spark.sql('SELECT u.server_id, sn.server_name, u.session_count \\\n",
    "                    FROM utilization AS u \\\n",
    "                    INNER JOIN server_name AS sn \\\n",
    "                    ON sn.server_id = u.server_id')\n",
    "df_join.show()"
   ]
  },
  {
   "cell_type": "markdown",
   "id": "4d66823c",
   "metadata": {},
   "source": [
    "**ELiminating Duplicates**"
   ]
  },
  {
   "cell_type": "code",
   "execution_count": 45,
   "id": "068f2d05",
   "metadata": {},
   "outputs": [],
   "source": [
    "from pyspark.sql import Row, SQLContext\n",
    "\n",
    "sc = spark.sparkContext"
   ]
  },
  {
   "cell_type": "code",
   "execution_count": 46,
   "id": "7d403984",
   "metadata": {},
   "outputs": [],
   "source": [
    "df_dup = sc.parallelize([Row(server_name = '101 Server', cpu_utilizattion = 85, session_count = 80), \\\n",
    "                        Row(server_name = '101 Server', cpu_utilization = 80, session_count = 90), \\\n",
    "                        Row(server_name = '102 Server', cpu_utilization = 85, session_count = 80), \\\n",
    "                        Row(server_name = '102 Server', cpu_utilization = 85, session_count = 80)]).toDF()"
   ]
  },
  {
   "cell_type": "code",
   "execution_count": 47,
   "id": "ed540953",
   "metadata": {},
   "outputs": [
    {
     "name": "stdout",
     "output_type": "stream",
     "text": [
      "+-----------+----------------+-------------+\n",
      "|server_name|cpu_utilizattion|session_count|\n",
      "+-----------+----------------+-------------+\n",
      "| 101 Server|              85|           80|\n",
      "| 101 Server|              80|           90|\n",
      "| 102 Server|              85|           80|\n",
      "| 102 Server|              85|           80|\n",
      "+-----------+----------------+-------------+\n",
      "\n"
     ]
    }
   ],
   "source": [
    "df_dup.show()"
   ]
  },
  {
   "cell_type": "code",
   "execution_count": 48,
   "id": "eab30003",
   "metadata": {},
   "outputs": [
    {
     "name": "stdout",
     "output_type": "stream",
     "text": [
      "+-----------+----------------+-------------+\n",
      "|server_name|cpu_utilizattion|session_count|\n",
      "+-----------+----------------+-------------+\n",
      "| 101 Server|              85|           80|\n",
      "| 101 Server|              80|           90|\n",
      "| 102 Server|              85|           80|\n",
      "+-----------+----------------+-------------+\n",
      "\n"
     ]
    }
   ],
   "source": [
    "df_dup.drop_duplicates().show()"
   ]
  },
  {
   "cell_type": "code",
   "execution_count": 50,
   "id": "d21480bb",
   "metadata": {},
   "outputs": [
    {
     "name": "stdout",
     "output_type": "stream",
     "text": [
      "+-----------+----------------+-------------+\n",
      "|server_name|cpu_utilizattion|session_count|\n",
      "+-----------+----------------+-------------+\n",
      "| 101 Server|              85|           80|\n",
      "| 102 Server|              85|           80|\n",
      "+-----------+----------------+-------------+\n",
      "\n"
     ]
    }
   ],
   "source": [
    "df_dup.drop_duplicates(['server_name']).show()"
   ]
  },
  {
   "cell_type": "markdown",
   "id": "cbbc405e",
   "metadata": {},
   "source": [
    "**NA Values**"
   ]
  },
  {
   "cell_type": "code",
   "execution_count": 53,
   "id": "ae34b505",
   "metadata": {},
   "outputs": [],
   "source": [
    "from pyspark.sql.functions import lit\n",
    "from pyspark.sql.types import StringType  "
   ]
  },
  {
   "cell_type": "code",
   "execution_count": 51,
   "id": "774ce557",
   "metadata": {},
   "outputs": [],
   "source": [
    "df = sc.parallelize([Row(server_name = '101 Server', cpu_utilizattion = 85, session_count = 80), \\\n",
    "                        Row(server_name = '101 Server', cpu_utilization = 80, session_count = 90), \\\n",
    "                        Row(server_name = '102 Server', cpu_utilization = 85, session_count = 40), \\\n",
    "                        Row(server_name = '103 Server', cpu_utilization = 70, session_count = 80), \\\n",
    "                        Row(server_name = '104 Server', cpu_utilization = 60, session_count = 80)]).toDF()"
   ]
  },
  {
   "cell_type": "code",
   "execution_count": 52,
   "id": "d3db35fe",
   "metadata": {},
   "outputs": [
    {
     "name": "stdout",
     "output_type": "stream",
     "text": [
      "+-----------+----------------+-------------+\n",
      "|server_name|cpu_utilizattion|session_count|\n",
      "+-----------+----------------+-------------+\n",
      "| 101 Server|              85|           80|\n",
      "| 101 Server|              80|           90|\n",
      "| 102 Server|              85|           40|\n",
      "| 103 Server|              70|           80|\n",
      "| 104 Server|              60|           80|\n",
      "+-----------+----------------+-------------+\n",
      "\n"
     ]
    }
   ],
   "source": [
    "df.show()"
   ]
  },
  {
   "cell_type": "code",
   "execution_count": 54,
   "id": "6927dc1d",
   "metadata": {},
   "outputs": [],
   "source": [
    "df_na = df.withColumn('na_col', lit(None).cast(StringType()))"
   ]
  },
  {
   "cell_type": "code",
   "execution_count": 55,
   "id": "1eebe316",
   "metadata": {},
   "outputs": [
    {
     "name": "stdout",
     "output_type": "stream",
     "text": [
      "+-----------+----------------+-------------+------+\n",
      "|server_name|cpu_utilizattion|session_count|na_col|\n",
      "+-----------+----------------+-------------+------+\n",
      "| 101 Server|              85|           80|  null|\n",
      "| 101 Server|              80|           90|  null|\n",
      "| 102 Server|              85|           40|  null|\n",
      "| 103 Server|              70|           80|  null|\n",
      "| 104 Server|              60|           80|  null|\n",
      "+-----------+----------------+-------------+------+\n",
      "\n"
     ]
    }
   ],
   "source": [
    "df_na.show()"
   ]
  },
  {
   "cell_type": "code",
   "execution_count": 56,
   "id": "37772656",
   "metadata": {},
   "outputs": [
    {
     "name": "stdout",
     "output_type": "stream",
     "text": [
      "+-----------+----------------+-------------+------+\n",
      "|server_name|cpu_utilizattion|session_count|na_col|\n",
      "+-----------+----------------+-------------+------+\n",
      "| 101 Server|              85|           80|     A|\n",
      "| 101 Server|              80|           90|     A|\n",
      "| 102 Server|              85|           40|     A|\n",
      "| 103 Server|              70|           80|     A|\n",
      "| 104 Server|              60|           80|     A|\n",
      "+-----------+----------------+-------------+------+\n",
      "\n"
     ]
    }
   ],
   "source": [
    "df_na.fillna('A').show()"
   ]
  },
  {
   "cell_type": "code",
   "execution_count": 57,
   "id": "135ed6e4",
   "metadata": {},
   "outputs": [
    {
     "name": "stdout",
     "output_type": "stream",
     "text": [
      "+-----------+----------------+-------------+------+\n",
      "|server_name|cpu_utilizattion|session_count|na_col|\n",
      "+-----------+----------------+-------------+------+\n",
      "| 101 Server|              85|           80|     A|\n",
      "| 101 Server|              80|           90|     A|\n",
      "| 102 Server|              85|           40|     A|\n",
      "| 103 Server|              70|           80|     A|\n",
      "| 104 Server|              60|           80|     A|\n",
      "| 101 Server|              85|           80|  null|\n",
      "| 101 Server|              80|           90|  null|\n",
      "| 102 Server|              85|           40|  null|\n",
      "| 103 Server|              70|           80|  null|\n",
      "| 104 Server|              60|           80|  null|\n",
      "+-----------+----------------+-------------+------+\n",
      "\n"
     ]
    }
   ],
   "source": [
    "df2 = df_na.fillna('A').union(df_na)\n",
    "df2.show()"
   ]
  },
  {
   "cell_type": "code",
   "execution_count": 58,
   "id": "f69f5e30",
   "metadata": {},
   "outputs": [
    {
     "name": "stdout",
     "output_type": "stream",
     "text": [
      "+-----------+----------------+-------------+------+\n",
      "|server_name|cpu_utilizattion|session_count|na_col|\n",
      "+-----------+----------------+-------------+------+\n",
      "| 101 Server|              85|           80|     A|\n",
      "| 101 Server|              80|           90|     A|\n",
      "| 102 Server|              85|           40|     A|\n",
      "| 103 Server|              70|           80|     A|\n",
      "| 104 Server|              60|           80|     A|\n",
      "+-----------+----------------+-------------+------+\n",
      "\n"
     ]
    }
   ],
   "source": [
    "df2.na.drop().show()"
   ]
  },
  {
   "cell_type": "code",
   "execution_count": 59,
   "id": "7e89c047",
   "metadata": {},
   "outputs": [],
   "source": [
    "df2.createOrReplaceTempView('na_table')"
   ]
  },
  {
   "cell_type": "code",
   "execution_count": 60,
   "id": "dc050fdd",
   "metadata": {},
   "outputs": [
    {
     "name": "stdout",
     "output_type": "stream",
     "text": [
      "+-----------+----------------+-------------+------+\n",
      "|server_name|cpu_utilizattion|session_count|na_col|\n",
      "+-----------+----------------+-------------+------+\n",
      "| 101 Server|              85|           80|     A|\n",
      "| 101 Server|              80|           90|     A|\n",
      "| 102 Server|              85|           40|     A|\n",
      "| 103 Server|              70|           80|     A|\n",
      "| 104 Server|              60|           80|     A|\n",
      "| 101 Server|              85|           80|  null|\n",
      "| 101 Server|              80|           90|  null|\n",
      "| 102 Server|              85|           40|  null|\n",
      "| 103 Server|              70|           80|  null|\n",
      "| 104 Server|              60|           80|  null|\n",
      "+-----------+----------------+-------------+------+\n",
      "\n"
     ]
    }
   ],
   "source": [
    "spark.sql('SELECT * FROM na_table').show()"
   ]
  },
  {
   "cell_type": "code",
   "execution_count": 61,
   "id": "5929c313",
   "metadata": {},
   "outputs": [
    {
     "name": "stdout",
     "output_type": "stream",
     "text": [
      "+-----------+----------------+-------------+------+\n",
      "|server_name|cpu_utilizattion|session_count|na_col|\n",
      "+-----------+----------------+-------------+------+\n",
      "| 101 Server|              85|           80|  null|\n",
      "| 101 Server|              80|           90|  null|\n",
      "| 102 Server|              85|           40|  null|\n",
      "| 103 Server|              70|           80|  null|\n",
      "| 104 Server|              60|           80|  null|\n",
      "+-----------+----------------+-------------+------+\n",
      "\n"
     ]
    }
   ],
   "source": [
    "spark.sql('SELECT * FROM na_table WHERE na_col IS NULL').show()"
   ]
  },
  {
   "cell_type": "code",
   "execution_count": 62,
   "id": "a4bb5623",
   "metadata": {},
   "outputs": [
    {
     "name": "stdout",
     "output_type": "stream",
     "text": [
      "+-----------+----------------+-------------+------+\n",
      "|server_name|cpu_utilizattion|session_count|na_col|\n",
      "+-----------+----------------+-------------+------+\n",
      "| 101 Server|              85|           80|     A|\n",
      "| 101 Server|              80|           90|     A|\n",
      "| 102 Server|              85|           40|     A|\n",
      "| 103 Server|              70|           80|     A|\n",
      "| 104 Server|              60|           80|     A|\n",
      "+-----------+----------------+-------------+------+\n",
      "\n"
     ]
    }
   ],
   "source": [
    "spark.sql('SELECT * FROM na_table WHERE na_col IS NOT NULL').show()"
   ]
  },
  {
   "cell_type": "code",
   "execution_count": null,
   "id": "ebdfaab1",
   "metadata": {},
   "outputs": [],
   "source": []
  }
 ],
 "metadata": {
  "kernelspec": {
   "display_name": "Python 3 (ipykernel)",
   "language": "python",
   "name": "python3"
  },
  "language_info": {
   "codemirror_mode": {
    "name": "ipython",
    "version": 3
   },
   "file_extension": ".py",
   "mimetype": "text/x-python",
   "name": "python",
   "nbconvert_exporter": "python",
   "pygments_lexer": "ipython3",
   "version": "3.9.7"
  }
 },
 "nbformat": 4,
 "nbformat_minor": 5
}
